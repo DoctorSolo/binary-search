{
 "cells": [
  {
   "cell_type": "code",
   "execution_count": null,
   "id": "e5b0b092",
   "metadata": {},
   "outputs": [],
   "source": [
    "from src.BinarySearch import BinarySearch\n",
    "from src.Stack import Stack"
   ]
  },
  {
   "cell_type": "code",
   "execution_count": null,
   "id": "f0809923",
   "metadata": {},
   "outputs": [],
   "source": []
  }
 ],
 "metadata": {
  "kernelspec": {
   "display_name": "base",
   "language": "python",
   "name": "python3"
  },
  "language_info": {
   "codemirror_mode": {
    "name": "ipython",
    "version": 3
   },
   "file_extension": ".py",
   "mimetype": "text/x-python",
   "name": "python",
   "nbconvert_exporter": "python",
   "pygments_lexer": "ipython3",
   "version": "3.12.7"
  }
 },
 "nbformat": 4,
 "nbformat_minor": 5
}
