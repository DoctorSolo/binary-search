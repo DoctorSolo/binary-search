{
 "cells": [
  {
   "cell_type": "code",
   "execution_count": null,
   "id": "e5b0b092",
   "metadata": {},
   "outputs": [],
   "source": [
    "from src.BinarySearch import BinarySearch\n",
    "from src.CircularQueue import CircularQueue"
   ]
  },
  {
   "cell_type": "code",
   "execution_count": null,
   "id": "237270dd",
   "metadata": {},
   "outputs": [],
   "source": [
    "queue01 = CircularQueue(5)"
   ]
  },
  {
   "cell_type": "code",
   "execution_count": null,
   "id": "8c5b2b95",
   "metadata": {},
   "outputs": [],
   "source": [
    "queue01.Queue(1)\n",
    "queue01.Queue(2)\n",
    "queue01.Queue(3)\n",
    "queue01.Queue(4)\n",
    "queue01.Queue(5)"
   ]
  },
  {
   "cell_type": "code",
   "execution_count": null,
   "id": "afb393bc",
   "metadata": {},
   "outputs": [],
   "source": [
    "queue01.Show()"
   ]
  },
  {
   "cell_type": "code",
   "execution_count": null,
   "id": "f3744f61",
   "metadata": {},
   "outputs": [],
   "source": [
    "queue01.Unqueue()"
   ]
  },
  {
   "cell_type": "code",
   "execution_count": null,
   "id": "6c9057f2",
   "metadata": {},
   "outputs": [],
   "source": [
    "queue01.Show()"
   ]
  }
 ],
 "metadata": {
  "kernelspec": {
   "display_name": "base",
   "language": "python",
   "name": "python3"
  },
  "language_info": {
   "codemirror_mode": {
    "name": "ipython",
    "version": 3
   },
   "file_extension": ".py",
   "mimetype": "text/x-python",
   "name": "python",
   "nbconvert_exporter": "python",
   "pygments_lexer": "ipython3",
   "version": "3.12.7"
  }
 },
 "nbformat": 4,
 "nbformat_minor": 5
}
