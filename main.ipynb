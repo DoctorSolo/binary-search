{
 "cells": [
  {
   "cell_type": "code",
   "execution_count": 1,
   "id": "e5b0b092",
   "metadata": {},
   "outputs": [],
   "source": [
    "from BinarySearch import BinarySearch"
   ]
  },
  {
   "cell_type": "code",
   "execution_count": 14,
   "id": "b8af2848",
   "metadata": {},
   "outputs": [],
   "source": [
    "arr01 = range(1, 11)\n",
    "arr02 = range(1, 1_000_000)\n",
    "arr03 = range(-50, 50)"
   ]
  },
  {
   "cell_type": "code",
   "execution_count": 15,
   "id": "28703be8",
   "metadata": {},
   "outputs": [],
   "source": [
    "search01 = BinarySearch(arr01)\n",
    "search02 = BinarySearch(arr02)\n",
    "search03 = BinarySearch(arr03)"
   ]
  },
  {
   "cell_type": "code",
   "execution_count": 19,
   "id": "d80f2171",
   "metadata": {},
   "outputs": [
    {
     "name": "stdout",
     "output_type": "stream",
     "text": [
      "1.73 μs ± 43.4 ns per loop (mean ± std. dev. of 7 runs, 1,000,000 loops each)\n",
      "7.45 μs ± 224 ns per loop (mean ± std. dev. of 7 runs, 100,000 loops each)\n",
      "2.88 μs ± 50.8 ns per loop (mean ± std. dev. of 7 runs, 100,000 loops each)\n"
     ]
    }
   ],
   "source": [
    "%timeit search01.Search(10)\n",
    "%timeit search02.Search(10)\n",
    "%timeit search03.Search(10)"
   ]
  }
 ],
 "metadata": {
  "kernelspec": {
   "display_name": "Python 3",
   "language": "python",
   "name": "python3"
  },
  "language_info": {
   "codemirror_mode": {
    "name": "ipython",
    "version": 3
   },
   "file_extension": ".py",
   "mimetype": "text/x-python",
   "name": "python",
   "nbconvert_exporter": "python",
   "pygments_lexer": "ipython3",
   "version": "3.10.16"
  }
 },
 "nbformat": 4,
 "nbformat_minor": 5
}
