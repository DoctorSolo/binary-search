{
 "cells": [
  {
   "cell_type": "code",
   "execution_count": null,
   "id": "e5b0b092",
   "metadata": {},
   "outputs": [],
   "source": [
    "from src.BinarySearch import BinarySearch"
   ]
  },
  {
   "cell_type": "code",
   "execution_count": null,
   "id": "4a81e41a",
   "metadata": {},
   "outputs": [],
   "source": [
    "list00 = BinarySearch(range(1, 1_000_000, 2))"
   ]
  },
  {
   "cell_type": "code",
   "execution_count": null,
   "id": "6e7e9685",
   "metadata": {},
   "outputs": [],
   "source": [
    "%timeit list00.Search(99)"
   ]
  },
  {
   "cell_type": "code",
   "execution_count": null,
   "id": "5551219a",
   "metadata": {},
   "outputs": [],
   "source": [
    "list00.Add(50)\n",
    "list00.Delete(47)"
   ]
  },
  {
   "cell_type": "code",
   "execution_count": null,
   "id": "e6301f04",
   "metadata": {},
   "outputs": [],
   "source": [
    "list00.Show()"
   ]
  }
 ],
 "metadata": {
  "kernelspec": {
   "display_name": "Python 3",
   "language": "python",
   "name": "python3"
  },
  "language_info": {
   "codemirror_mode": {
    "name": "ipython",
    "version": 3
   },
   "file_extension": ".py",
   "mimetype": "text/x-python",
   "name": "python",
   "nbconvert_exporter": "python",
   "pygments_lexer": "ipython3",
   "version": "3.10.16"
  }
 },
 "nbformat": 4,
 "nbformat_minor": 5
}
